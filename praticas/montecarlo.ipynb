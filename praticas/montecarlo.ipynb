{
 "cells": [
  {
   "attachments": {},
   "cell_type": "markdown",
   "metadata": {},
   "source": [
    "# Monte Carlo Simulations"
   ]
  },
  {
   "attachments": {},
   "cell_type": "markdown",
   "metadata": {},
   "source": [
    "Monte Carlo Simulations are numerical methods based on Random Number Generators.\n",
    "\n",
    "Some of the most common applications os MC Simulations are:\n",
    "\n",
    "* Integral Calculations "
   ]
  },
  {
   "attachments": {},
   "cell_type": "markdown",
   "metadata": {},
   "source": [
    "### Integrals via Monte Carlo "
   ]
  },
  {
   "attachments": {},
   "cell_type": "markdown",
   "metadata": {},
   "source": [
    "Sometimes calculating an integral might be very hard or even impossible analytic.\n",
    "\n",
    "That's where Monte Carlo Method comes into play. \n",
    "\n",
    "The result for the Monte Carlo Method relies on the **Central Limit Theorem**, more specifically the **Law of Large Numbers**"
   ]
  },
  {
   "attachments": {},
   "cell_type": "markdown",
   "metadata": {},
   "source": [
    "#### Example 01"
   ]
  },
  {
   "attachments": {},
   "cell_type": "markdown",
   "metadata": {},
   "source": [
    "Let's calculate the integral for $\\int_{0}^{1}3x^2$"
   ]
  },
  {
   "cell_type": "code",
   "execution_count": 33,
   "metadata": {},
   "outputs": [],
   "source": [
    "from scipy.stats import uniform\n",
    "import numpy as np\n",
    "\n",
    "def func(x):\n",
    "    return np.cos(x)\n",
    "\n",
    "def monteCarloIntegral(inf, sup, N):\n",
    "\n",
    "    X = uniform.rvs(size=N) \n",
    "\n",
    "    integral = 0.\n",
    "\n",
    "    for i in range(N):\n",
    "        integral += func(X[i]) \n",
    "\n",
    "    area = (sup - inf) / float(N)*integral \n",
    "\n",
    "    return area"
   ]
  },
  {
   "attachments": {},
   "cell_type": "markdown",
   "metadata": {},
   "source": [
    "## Monte Carlo Method for Higher Dimensions"
   ]
  },
  {
   "attachments": {},
   "cell_type": "markdown",
   "metadata": {},
   "source": [
    "On higher dimensions the same principle applies. The difference is that we can treat each variable as an independent uniform random variable. So, we can compute the area under each integral. And the total area will be the means for each of the variables. "
   ]
  },
  {
   "attachments": {},
   "cell_type": "markdown",
   "metadata": {},
   "source": [
    "### Example 02 "
   ]
  },
  {
   "attachments": {},
   "cell_type": "markdown",
   "metadata": {},
   "source": [
    "Let's try to estimate the value of $\\pi$ using Monte Carlo Simulation"
   ]
  },
  {
   "cell_type": "code",
   "execution_count": 82,
   "metadata": {},
   "outputs": [],
   "source": [
    "def circleFunc(x,y):\n",
    "    return x**2 + y**2 <= 1 \n",
    "\n",
    "def monteCarloIntegral(inf, sup, N):\n",
    "\n",
    "    X = uniform.rvs(size=N)\n",
    "    Y = uniform.rvs(size=N)\n",
    "\n",
    "    integral = 0.\n",
    "\n",
    "    for i in range(N):\n",
    "        integral += circleFunc(X[i], Y[i]) \n",
    "\n",
    "    area = (sup - inf) / float(N)*integral \n",
    "\n",
    "    return {area, integral}"
   ]
  },
  {
   "cell_type": "code",
   "execution_count": 86,
   "metadata": {},
   "outputs": [
    {
     "data": {
      "text/plain": [
       "{1.5726, 7863.0}"
      ]
     },
     "execution_count": 86,
     "metadata": {},
     "output_type": "execute_result"
    }
   ],
   "source": [
    "monteCarloIntegral(-1,1,10000)"
   ]
  },
  {
   "attachments": {},
   "cell_type": "markdown",
   "metadata": {},
   "source": [
    "### Example 3"
   ]
  },
  {
   "attachments": {},
   "cell_type": "markdown",
   "metadata": {},
   "source": [
    "Suposse we want to evaluate the following integral $\\int_{0}^{1}\\int_{0}^{1} e^{-(x+y)}dxdy$"
   ]
  },
  {
   "attachments": {},
   "cell_type": "markdown",
   "metadata": {},
   "source": [
    "The steps are basically the same:\n",
    "\n",
    "* Define the limits of integration (but this time we have four limits) \n",
    "* Define the number of simulations $N$ \n",
    "* Define the function \n",
    "* Apply the Monte Carlo Method\n",
    "\n",
    "There's a slightly difference on the formula. \n",
    "\n",
    "$$\n",
    "(b-a)(d-c) / N \\cdot \\sum{f(x, y)} \\approx \\int_{a}^{b}\\int_{c}^{d} f(x,y)dxdy\n",
    "$$"
   ]
  },
  {
   "cell_type": "code",
   "execution_count": 131,
   "metadata": {},
   "outputs": [],
   "source": [
    "def expfunc01(x, y):\n",
    "    return np.e**(-x-y)\n",
    "\n",
    "def integralExample3(N):\n",
    "\n",
    "    X = uniform.rvs(size=N) \n",
    "    Y = uniform.rvs(size=N) \n",
    "\n",
    "    integral = 0.\n",
    "\n",
    "    for i in range(N):\n",
    "        integral += expfunc01(X[i], Y[i]) \n",
    "\n",
    "    area = 1/N*integral \n",
    "\n",
    "    return area\n"
   ]
  },
  {
   "cell_type": "code",
   "execution_count": 137,
   "metadata": {},
   "outputs": [
    {
     "data": {
      "text/plain": [
       "0.3982707813133213"
      ]
     },
     "execution_count": 137,
     "metadata": {},
     "output_type": "execute_result"
    }
   ],
   "source": [
    "integralExample3(10000)"
   ]
  },
  {
   "attachments": {},
   "cell_type": "markdown",
   "metadata": {},
   "source": [
    "### Example 04\n",
    "\n",
    "$\\int_{0}^{1}\\int_{0}^{1} e^{-(x^2+y^2)}dxdy$"
   ]
  },
  {
   "cell_type": "code",
   "execution_count": 138,
   "metadata": {},
   "outputs": [],
   "source": [
    "def expfunc02(x, y):\n",
    "    return np.e**(-x**2-y**2)\n",
    "\n",
    "def integralExample4(N):\n",
    "\n",
    "    X = uniform.rvs(size=N) \n",
    "    Y = uniform.rvs(size=N) \n",
    "\n",
    "    integral = 0.\n",
    "\n",
    "    for i in range(N):\n",
    "        integral += expfunc02(X[i], Y[i]) \n",
    "\n",
    "    area = 1/N*integral \n",
    "\n",
    "    return area"
   ]
  },
  {
   "cell_type": "code",
   "execution_count": 141,
   "metadata": {},
   "outputs": [
    {
     "data": {
      "text/plain": [
       "0.5559569259427349"
      ]
     },
     "execution_count": 141,
     "metadata": {},
     "output_type": "execute_result"
    }
   ],
   "source": [
    "integralExample4(10000)"
   ]
  },
  {
   "attachments": {},
   "cell_type": "markdown",
   "metadata": {},
   "source": [
    "### Example 05 \n",
    "\n",
    "$\\int_{0}^{1}\\int_{0}^{1} e^{-(x+y)^2}dxdy$"
   ]
  },
  {
   "cell_type": "code",
   "execution_count": 142,
   "metadata": {},
   "outputs": [],
   "source": [
    "def expfunc03(x, y):\n",
    "    return np.e**(-x-y)**2\n",
    "\n",
    "def integralExample5(N):\n",
    "\n",
    "    X = uniform.rvs(size=N) \n",
    "    Y = uniform.rvs(size=N) \n",
    "\n",
    "    integral = 0.\n",
    "\n",
    "    for i in range(N):\n",
    "        integral += expfunc03(X[i], Y[i]) \n",
    "\n",
    "    area = 1/N*integral \n",
    "\n",
    "    return area"
   ]
  },
  {
   "cell_type": "code",
   "execution_count": 157,
   "metadata": {},
   "outputs": [
    {
     "data": {
      "text/plain": [
       "4.883279133404958"
      ]
     },
     "execution_count": 157,
     "metadata": {},
     "output_type": "execute_result"
    }
   ],
   "source": [
    "integralExample5(10000)"
   ]
  }
 ],
 "metadata": {
  "kernelspec": {
   "display_name": "base",
   "language": "python",
   "name": "python3"
  },
  "language_info": {
   "codemirror_mode": {
    "name": "ipython",
    "version": 3
   },
   "file_extension": ".py",
   "mimetype": "text/x-python",
   "name": "python",
   "nbconvert_exporter": "python",
   "pygments_lexer": "ipython3",
   "version": "3.9.7"
  },
  "orig_nbformat": 4
 },
 "nbformat": 4,
 "nbformat_minor": 2
}
