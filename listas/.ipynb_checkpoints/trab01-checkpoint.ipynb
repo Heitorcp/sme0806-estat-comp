{
 "cells": [
  {
   "attachments": {},
   "cell_type": "markdown",
   "metadata": {},
   "source": [
    "# Estatística Computacional - SME0806 - 1º Trabalho \n",
    "\n"
   ]
  },
  {
   "cell_type": "code",
   "execution_count": 29,
   "metadata": {},
   "outputs": [],
   "source": [
    "#importando bibliotecas\n",
    "\n",
    "import numpy as np\n",
    "from scipy.stats import uniform\n",
    "import seaborn as sns"
   ]
  },
  {
   "attachments": {},
   "cell_type": "markdown",
   "metadata": {},
   "source": [
    "## 1."
   ]
  },
  {
   "attachments": {},
   "cell_type": "markdown",
   "metadata": {},
   "source": [
    "Apresente aproximações de Monte Carlo para a integral em (1) para cada uma das funções abaixo. Compare sua aproximação com o valor exato, se for possível."
   ]
  },
  {
   "cell_type": "markdown",
   "metadata": {},
   "source": [
    "Podemos aproximar integrais duplas com a seguinte fómula"
   ]
  },
  {
   "cell_type": "markdown",
   "metadata": {},
   "source": [
    "$$\n",
    "(b-a)(d-c) / N \\cdot \\sum{f(x, y)} \\approx \\int_{a}^{b}\\int_{c}^{d} f(x,y)dxdy\n",
    "$$"
   ]
  },
  {
   "attachments": {},
   "cell_type": "markdown",
   "metadata": {},
   "source": [
    "\n",
    "### b) $g(x) = \\int_{0}^{1}\\int_{0}^{1} e^{-(x+y)}dxdy$"
   ]
  },
  {
   "cell_type": "code",
   "execution_count": 17,
   "metadata": {},
   "outputs": [],
   "source": [
    "def expfunc01(x, y):\n",
    "    return np.e**(-x-y)\n",
    "\n",
    "def integralExample1(N):\n",
    "\n",
    "    X = uniform.rvs(size=N) \n",
    "    Y = uniform.rvs(size=N) \n",
    "\n",
    "    integral = 0.\n",
    "\n",
    "    for i in range(N):\n",
    "        integral += expfunc01(X[i], Y[i]) \n",
    "\n",
    "    area = 1/N*integral \n",
    "\n",
    "    return area"
   ]
  },
  {
   "cell_type": "code",
   "execution_count": 7,
   "metadata": {},
   "outputs": [
    {
     "data": {
      "text/plain": [
       "0.3971818917052939"
      ]
     },
     "execution_count": 7,
     "metadata": {},
     "output_type": "execute_result"
    }
   ],
   "source": [
    "integralExample1(1000)"
   ]
  },
  {
   "attachments": {},
   "cell_type": "markdown",
   "metadata": {},
   "source": [
    "Logo, $\\int_{0}^{1}\\int_{0}^{1} e^{-(x+y)}dxdy \\approx  0.39$"
   ]
  },
  {
   "attachments": {},
   "cell_type": "markdown",
   "metadata": {},
   "source": [
    "### c) $\\int_{0}^{1}\\int_{0}^{1} e^{-(x^2+y^2)}dxdy$"
   ]
  },
  {
   "cell_type": "code",
   "execution_count": 18,
   "metadata": {},
   "outputs": [],
   "source": [
    "def expfunc02(x, y):\n",
    "    return np.e**(-x**2-y**2)\n",
    "\n",
    "def integralExample2(N):\n",
    "\n",
    "    X = uniform.rvs(size=N) \n",
    "    Y = uniform.rvs(size=N) \n",
    "\n",
    "    integral = 0.\n",
    "\n",
    "    for i in range(N):\n",
    "        integral += expfunc02(X[i], Y[i]) \n",
    "\n",
    "    area = 1/N*integral \n",
    "\n",
    "    return area"
   ]
  },
  {
   "cell_type": "code",
   "execution_count": 13,
   "metadata": {},
   "outputs": [
    {
     "data": {
      "text/plain": [
       "0.5577343846571844"
      ]
     },
     "execution_count": 13,
     "metadata": {},
     "output_type": "execute_result"
    }
   ],
   "source": [
    "integralExample2(N=10000)"
   ]
  },
  {
   "attachments": {},
   "cell_type": "markdown",
   "metadata": {},
   "source": [
    "Logo, $\\int_{0}^{1}\\int_{0}^{1} e^{-(x^2+y^2)}dxdy \\approx 0.55$"
   ]
  },
  {
   "attachments": {},
   "cell_type": "markdown",
   "metadata": {},
   "source": [
    "### d) $\\int_{0}^{1}\\int_{0}^{1} e^{-(x+y)^2}dxdy$ "
   ]
  },
  {
   "cell_type": "code",
   "execution_count": 19,
   "metadata": {},
   "outputs": [],
   "source": [
    "def expfunc03(x, y):\n",
    "    return np.e**(-x-y)**2\n",
    "\n",
    "def integralExample3(N):\n",
    "\n",
    "    X = uniform.rvs(size=N) \n",
    "    Y = uniform.rvs(size=N) \n",
    "\n",
    "    integral = 0.\n",
    "\n",
    "    for i in range(N):\n",
    "        integral += expfunc03(X[i], Y[i]) \n",
    "\n",
    "    area = 1/N*integral \n",
    "\n",
    "    return area"
   ]
  },
  {
   "cell_type": "code",
   "execution_count": 27,
   "metadata": {},
   "outputs": [
    {
     "data": {
      "text/plain": [
       "4.874312632732984"
      ]
     },
     "execution_count": 27,
     "metadata": {},
     "output_type": "execute_result"
    }
   ],
   "source": [
    "integralExample3(10000)"
   ]
  },
  {
   "attachments": {},
   "cell_type": "markdown",
   "metadata": {},
   "source": [
    "Logo, $\\int_{0}^{1}\\int_{0}^{1} e^{-(x+y)^2}dxdy \\approx 4.9$ "
   ]
  },
  {
   "attachments": {},
   "cell_type": "markdown",
   "metadata": {},
   "source": [
    "### 2. A variável aleatória $X$ tem função densidade $f(x) \\propto e^{(-|x|^3/3)}$ "
   ]
  },
  {
   "attachments": {},
   "cell_type": "markdown",
   "metadata": {},
   "source": [
    "Vamos definir um gerador de amostras de $X$ utilizando o Método da Rejeição."
   ]
  },
  {
   "attachments": {},
   "cell_type": "markdown",
   "metadata": {},
   "source": [
    "### Visualizando $f(x)$"
   ]
  },
  {
   "cell_type": "code",
   "execution_count": 5,
   "metadata": {},
   "outputs": [
    {
     "data": {
      "image/png": "[encoded data removed]",
      "text/plain": [
       "<Figure size 864x432 with 1 Axes>"
      ]
     },
     "metadata": {
      "needs_background": "light"
     },
     "output_type": "display_data"
    }
   ],
   "source": [
    "import numpy as np\n",
    "import scipy\n",
    "import matplotlib.pyplot as plt \n",
    "import seaborn as sns \n",
    "\n",
    "def f(x):\n",
    "    return np.exp(-abs(x)**3/3) \n",
    "\n",
    "x = np.arange(0, 10) \n",
    "\n",
    "fig, ax = plt.subplots(figsize=(12,6)) \n",
    "ax.plot(x, f(x),label=\"$f(x)$\") \n",
    "plt.legend() \n",
    "plt.show()"
   ]
  },
  {
   "attachments": {},
   "cell_type": "markdown",
   "metadata": {},
   "source": [
    "### Definindo a função auxiliar $q(x)$"
   ]
  },
  {
   "cell_type": "code",
   "execution_count": 16,
   "metadata": {},
   "outputs": [
    {
     "data": {
      "image/png": "[encoded data removed]",
      "text/plain": [
       "<Figure size 864x432 with 1 Axes>"
      ]
     },
     "metadata": {
      "needs_background": "light"
     },
     "output_type": "display_data"
    }
   ],
   "source": [
    "def q(x):\n",
    "    return np.exp(-x)\n",
    "\n",
    "fig, ax = plt.subplots(figsize=(12,6)) \n",
    "ax.plot(x, f(x),label=\"$f(x)$\") \n",
    "ax.plot(x, q(x),label=\"$q(x)$\") \n",
    "plt.legend() \n",
    "plt.show()"
   ]
  },
  {
   "attachments": {},
   "cell_type": "markdown",
   "metadata": {},
   "source": [
    "Definindo $M$ de modo que $M \\cdot q(x) \\geq f(x)$\n",
    "\n",
    "Ou seja, vamos \"encapsular\" a $f(x)$ com a $q(x)$"
   ]
  },
  {
   "cell_type": "code",
   "execution_count": 13,
   "metadata": {},
   "outputs": [],
   "source": [
    "M = max(f(x) / q(x))"
   ]
  },
  {
   "cell_type": "code",
   "execution_count": 14,
   "metadata": {},
   "outputs": [
    {
     "data": {
      "image/png": "[encoded data removed]",
      "text/plain": [
       "<Figure size 864x432 with 1 Axes>"
      ]
     },
     "metadata": {
      "needs_background": "light"
     },
     "output_type": "display_data"
    }
   ],
   "source": [
    "fig, ax = plt.subplots(figsize=(12,6)) \n",
    "ax.plot(x, f(x),label=\"$f(x)$\") \n",
    "ax.plot(x, q(x)*M,label=\"$M \\cdot q(x)$\") \n",
    "plt.legend() \n",
    "plt.show()"
   ]
  },
  {
   "attachments": {},
   "cell_type": "markdown",
   "metadata": {},
   "source": [
    "### Definindo o nosso gerador de amostras aleatórias. \n",
    "\n",
    "Para construir o nosso gerador precisamos:\n",
    "\n",
    "1. Amostrar $N$ elementos de $q(x)$\n",
    "2. Amostrar $N$ elementos de $U(0,1)$ \n",
    "3. Definir a regra de aceitação de modo que \n",
    "\n",
    "$$\n",
    "u \\leq f(x)/M \\cdot q(x)\n",
    "$$\n",
    "\n",
    "4. Aceitar as amostras que atenderem a regra acima."
   ]
  },
  {
   "cell_type": "code",
   "execution_count": 24,
   "metadata": {},
   "outputs": [],
   "source": [
    "def sampler(N): \n",
    "    \n",
    "    u_samples = np.random.uniform(0,1, size=N) \n",
    "    q_samples = np.random.exponential(scale=1,size=N)\n",
    "\n",
    "    mask = (f(q_samples) / (M*q(q_samples))) > u_samples \n",
    "    return q_samples[mask]"
   ]
  },
  {
   "attachments": {},
   "cell_type": "markdown",
   "metadata": {},
   "source": [
    "Para um tamanho de amostra $N = 500$"
   ]
  },
  {
   "cell_type": "code",
   "execution_count": 31,
   "metadata": {},
   "outputs": [
    {
     "data": {
      "image/png": "[encoded data removed]",
      "text/plain": [
       "<Figure size 360x360 with 1 Axes>"
      ]
     },
     "metadata": {
      "needs_background": "light"
     },
     "output_type": "display_data"
    }
   ],
   "source": [
    "samples = sampler(500) \n",
    "sns.displot(samples) \n",
    "plt.show()"
   ]
  },
  {
   "attachments": {},
   "cell_type": "markdown",
   "metadata": {},
   "source": [
    "Para $N = 1000$"
   ]
  },
  {
   "cell_type": "code",
   "execution_count": 32,
   "metadata": {},
   "outputs": [
    {
     "data": {
      "image/png": "[encoded data removed]",
      "text/plain": [
       "<Figure size 360x360 with 1 Axes>"
      ]
     },
     "metadata": {
      "needs_background": "light"
     },
     "output_type": "display_data"
    }
   ],
   "source": [
    "samples = sampler(1000) \n",
    "sns.displot(samples) \n",
    "plt.show()"
   ]
  },
  {
   "attachments": {},
   "cell_type": "markdown",
   "metadata": {},
   "source": [
    "Para $N = 100000$"
   ]
  },
  {
   "cell_type": "code",
   "execution_count": 30,
   "metadata": {},
   "outputs": [
    {
     "data": {
      "image/png": "[encoded data removed]",
      "text/plain": [
       "<Figure size 360x360 with 1 Axes>"
      ]
     },
     "metadata": {
      "needs_background": "light"
     },
     "output_type": "display_data"
    }
   ],
   "source": [
    "samples = sampler(100000) \n",
    "sns.displot(samples) \n",
    "plt.show()"
   ]
  }
 ],
 "metadata": {
  "kernelspec": {
   "display_name": "base",
   "language": "python",
   "name": "python3"
  },
  "language_info": {
   "codemirror_mode": {
    "name": "ipython",
    "version": 3
   },
   "file_extension": ".py",
   "mimetype": "text/x-python",
   "name": "python",
   "nbconvert_exporter": "python",
   "pygments_lexer": "ipython3",
   "version": "3.9.7"
  },
  "orig_nbformat": 4
 },
 "nbformat": 4,
 "nbformat_minor": 2
}
