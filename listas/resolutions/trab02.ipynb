{
 "cells": [
  {
   "attachments": {},
   "cell_type": "markdown",
   "metadata": {},
   "source": [
    "# Trabalho 02 - Estatistica Computacional"
   ]
  },
  {
   "attachments": {},
   "cell_type": "markdown",
   "metadata": {},
   "source": [
    "## Exercício 01"
   ]
  },
  {
   "attachments": {},
   "cell_type": "markdown",
   "metadata": {},
   "source": [
    "Sabe-se que cada componente do sistema $C_j$ funciona com probabilidade $p_j$, $j = 1,...,7$ e os componentes são independentes.\n",
    "\n",
    "De todos os caminhos possíveis, apenas cinco fazem o sistema funcionar corretamente. São eles:\n",
    "\n",
    "* $C_1 \\rightarrow C_2 \\rightarrow C_3$  \n",
    "* $C_1 \\rightarrow C_4 \\rightarrow C_5 \\rightarrow C_3$ \n",
    "* $C_1 \\rightarrow C_4 \\rightarrow C_7$ \n",
    "* $C_6 \\rightarrow C_5 \\rightarrow C_3$\n",
    "* $C_6 \\rightarrow C_7$    "
   ]
  },
  {
   "attachments": {},
   "cell_type": "markdown",
   "metadata": {},
   "source": [
    "Sendo assim, cada componente $C_j$ do sistema segue uma distribuição Bernoulli com parâmetro $p_j$ \n",
    "\n",
    "$$\n",
    "C_j \\sim Bernoulli(p_j)\n",
    "$$"
   ]
  },
  {
   "attachments": {},
   "cell_type": "markdown",
   "metadata": {},
   "source": [
    "Podemos simular a probabilidade de funcionamento do sistema a partir de simulações de Monte Carlo. O processo pode ser definido do seguinte modo:\n",
    "\n",
    "1. Definir o número de iterações $R$ Monte Carlo\n",
    "2. Definir um vetor $v$ que recebe as probabilidades que fazem o sistema funcionar.\n",
    "3. Simular um estado possível do sistema onde $C_j \\sim Bernoulli(p_j)$\n",
    "4. Verificar se o estado simulado faz o sistema funcionar. \n",
    "5. Se sim, $v$ recebe a probabilidade do caminho de sucesso.\n",
    "6. Caso contrário, voltar ao passo 3.\n",
    "\n",
    "A estimativa pontual da probabilidade de o sistema funcionar é a média das probabilidades no vetor $v$. "
   ]
  },
  {
   "attachments": {},
   "cell_type": "markdown",
   "metadata": {},
   "source": [
    "Em seguida, implementamos o código em Python"
   ]
  },
  {
   "cell_type": "code",
   "execution_count": 51,
   "metadata": {},
   "outputs": [],
   "source": [
    "from scipy.stats import bernoulli as bern\n",
    "from scipy.stats import norm\n",
    "import matplotlib.pyplot as plt\n",
    "\n",
    "import numpy as np\n",
    "import pandas as pd\n",
    "import seaborn as sns\n",
    "\n",
    "#probabilidades de cada elemento \n",
    "\n",
    "p1 = 0.867\n",
    "p2 = 0.952\n",
    "p3 = 0.986\n",
    "p4 = 0.878\n",
    "p5 = 0.871\n",
    "p6 = 0.995\n",
    "p7 = 0.903\n",
    "\n",
    "#probabilidade de cada caminho possivel\n",
    "p_c1 = p1*p2*p3 \n",
    "p_c2 = p1*p4*p5*p3 \n",
    "p_c3 = p1*p4*p7 \n",
    "p_c4 = p6*p5*p3 \n",
    "p_c5 = p6*p7\n",
    "\n",
    "def simulate_MC(R, confidence:float):\n",
    "\n",
    "  \"\"\"\n",
    "  Simula o sistema de fluxo proposto na questão 01 através de Métodos de MOnte Carlo.\n",
    "  A probabilidade de cada componente funcionar é uma Bernoulli(1, p). \n",
    "  Cada iteração do sistema simula um estado. Os elementos são avaliados para os casos desejáveis e suas probabilidades guardadas em uma lista.\n",
    "  Retorna a estimativa pontual da probabilidade de o sistema funcionar, o erro padrao do estimador e a estimativa intervalar.\n",
    "\n",
    "  Keyword arguments:\n",
    "  R -- o número de simulações a serem realizadas\n",
    "  confidence -- a confianca da estimativa intervalar\n",
    "  \"\"\"\n",
    "\n",
    "  #vetor de zeros que recebera as probabilidades dos casos desejaveis\n",
    "  probs = [0. for _ in range(R)]\n",
    "\n",
    "  for i in range(R):\n",
    "    estado = (bern.rvs(p=p1, size=1).item(), bern.rvs(p=p2, size=1).item(), bern.rvs(p=p3, size=1).item(), bern.rvs(p=p4, size=1).item(), bern.rvs(p=p5, size=1).item(), bern.rvs(p=p6, size=1).item(), bern.rvs(p=p7, size=1).item()) \n",
    "\n",
    "    #condicoes de verificação\n",
    "    if estado[0] and estado[1] and estado[2]:\n",
    "      probs[i] = p_c1 \n",
    "    elif estado[0] and estado[3] and estado[4] and estado[2]:\n",
    "      probs[i] = p_c2 \n",
    "    elif estado[0] and estado[3] and estado[6]: \n",
    "      probs[i] = p_c3 \n",
    "    elif estado[5] and estado[4] and estado[2]:\n",
    "      probs[i] = p_c4 \n",
    "    elif estado[5] and estado[6]:\n",
    "      probs[i] = p_c5 \n",
    "\n",
    "  #estimacao pontual  \n",
    "  prop = sum(probs)/R \n",
    "\n",
    "  #erro padrao\n",
    "  se = np.std(probs) \n",
    "\n",
    "  #intervalo de confianca (aproximacao Normal)\n",
    "  ic = norm.interval(confidence, loc=prop, scale=se) \n",
    "\n",
    "  #probs dataframe \n",
    "  probs_df = pd.DataFrame(probs) \n",
    "  probs_df.columns = [\"prob\"]\n",
    "  probs_df = probs_df.astype(float)\n",
    "  \n",
    "  #histograma das estimativas \n",
    "  sns.histplot(data = probs_df) \n",
    "  plt.plot()\n",
    "\n",
    "  return {\"estimativa_pontual\":prop, \"erro_padrao\":se, \"intervalo_confianca\":ic}"
   ]
  },
  {
   "attachments": {},
   "cell_type": "markdown",
   "metadata": {},
   "source": [
    "Acima importamos as funções `bernoulli` e `norm` da biblioteca *scipy* que nos permitem gerar valores a partir das distribuições Bernoulli e Normal, respectivamente. \n",
    "\n",
    "Em seguida, definimos as probabilidades $p_j$ de funcionamento de cada elemento. \n",
    "\n",
    "Também são definidas as probabilidades $p_{C_i}$ associadas aos cinco caminhos que fazem o sistema funcionar.\n",
    "\n",
    "O algoritmo para a simulação do sistema está definido dentro da função `simulate_MC` que recebe dois argumentos:\n",
    "* $R \\rightarrow$ o número de simulações Monte Carlo\n",
    "* $confidence \\rightarrow$ o grau de confiança que desejamos para a estimativa intervalar da probabilidade de funcionamento do sistema. \n",
    "\n",
    "Iniciamos definindo um vetor `probs` com $R$ elementos nulos que receberão as probabilidades de sucesso de cada simulação.\n",
    "\n",
    "Em seguida, realizamos uma laço de repetição $R$ vezes em que, para cada repetição simula-se o sistema e, em seguida são verificados se o sistema apresenta alguma dos cinco caminhos que o fazem funcionar. Caso a simulação possua algum desses caminhos, a probabilidade associada ao caminho é guardada dentro do vetor `probs`. \n",
    "\n",
    "Em seguida, calcula-se a estimativa pontual, ou seja a estimativa da proporção de simulações que fazem o sistema funcionar, o erro padrão dessa estimativa e por fim o intervalo de confiança da estimativa utilizando-se a aproximação Normal. "
   ]
  },
  {
   "attachments": {},
   "cell_type": "markdown",
   "metadata": {},
   "source": [
    "### Realizando uma simulação com 10.000 simulações de Monte Carlo com confiança de 95%"
   ]
  },
  {
   "cell_type": "code",
   "execution_count": 52,
   "metadata": {},
   "outputs": [
    {
     "data": {
      "text/plain": [
       "{'estimativa_pontual': 0.8118212371934443,\n",
       " 'erro_padrao': 0.061052285504975635,\n",
       " 'intervalo_confianca': (0.6921609564298353, 0.9314815179570534)}"
      ]
     },
     "execution_count": 52,
     "metadata": {},
     "output_type": "execute_result"
    },
    {
     "data": {
      "image/png": "[encoded data removed]",
      "text/plain": [
       "<Figure size 432x288 with 1 Axes>"
      ]
     },
     "metadata": {
      "needs_background": "light"
     },
     "output_type": "display_data"
    }
   ],
   "source": [
    "simulate_MC(1000, 0.95)"
   ]
  }
 ],
 "metadata": {
  "kernelspec": {
   "display_name": "base",
   "language": "python",
   "name": "python3"
  },
  "language_info": {
   "codemirror_mode": {
    "name": "ipython",
    "version": 3
   },
   "file_extension": ".py",
   "mimetype": "text/x-python",
   "name": "python",
   "nbconvert_exporter": "python",
   "pygments_lexer": "ipython3",
   "version": "3.9.7"
  },
  "orig_nbformat": 4
 },
 "nbformat": 4,
 "nbformat_minor": 2
}
